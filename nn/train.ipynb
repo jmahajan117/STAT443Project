{
 "cells": [
  {
   "cell_type": "code",
   "execution_count": 1,
   "metadata": {},
   "outputs": [],
   "source": [
    "import torch\n",
    "from neural import *\n",
    "from dataload import *"
   ]
  },
  {
   "cell_type": "code",
   "execution_count": 2,
   "metadata": {},
   "outputs": [
    {
     "name": "stdout",
     "output_type": "stream",
     "text": [
      "2000\n"
     ]
    }
   ],
   "source": [
    "net = Net()\n",
    "data = CustomData(\"../data/low_middle_high.csv\")\n"
   ]
  },
  {
   "cell_type": "code",
   "execution_count": 3,
   "metadata": {},
   "outputs": [],
   "source": [
    "loss_fn = nn.MSELoss()\n",
    "optim = torch.optim.Adam(net.parameters(), lr = 0.001)\n",
    "optim.zero_grad()"
   ]
  },
  {
   "cell_type": "code",
   "execution_count": 4,
   "metadata": {},
   "outputs": [],
   "source": [
    "dataset = torch.utils.data.DataLoader(data, batch_size=16, shuffle=True)"
   ]
  },
  {
   "cell_type": "code",
   "execution_count": 5,
   "metadata": {},
   "outputs": [],
   "source": [
    "net.train()\n",
    "for _ in range(500):\n",
    "    e_loss = 0\n",
    "    for idx, (x, y_res) in enumerate(dataset):\n",
    "        res = net(x)\n",
    "        loss = loss_fn(y_res, res)\n",
    "        optim.zero_grad()\n",
    "        loss.backward()\n",
    "        optim.step()\n",
    "        e_loss += loss.item()\n",
    "    #print(e_loss / 2000)\n"
   ]
  },
  {
   "cell_type": "code",
   "execution_count": 6,
   "metadata": {},
   "outputs": [
    {
     "name": "stdout",
     "output_type": "stream",
     "text": [
      "160\n"
     ]
    }
   ],
   "source": [
    "test_x = []\n",
    "test_y = []\n",
    "\n",
    "\n",
    "df = pd.read_csv(\"../data/low_middle_high.csv\")\n",
    "del df[df.columns[0]]\n",
    "for index, row in df.iterrows():\n",
    "    if index < 2000:\n",
    "        continue\n",
    "    s = [row[\"Hour\"], row[\"Temp\"], row[\"Humidity\"], \n",
    "            row[\"Wind_speed\"], row[\"Visibility\"], row[\"Solar_Radiation\"], row[\"Rainfall\"], row[\"Snowfall\"], row[\"Dew_Point\"]]\n",
    "    s = torch.Tensor(s)\n",
    "    r = torch.Tensor([row[\"demand\"]])\n",
    "    test_x.append(s)\n",
    "    test_y.append(r)\n",
    "print(len(test_x))"
   ]
  },
  {
   "cell_type": "code",
   "execution_count": 7,
   "metadata": {},
   "outputs": [
    {
     "name": "stdout",
     "output_type": "stream",
     "text": [
      "0.55\n"
     ]
    }
   ],
   "source": [
    "correct = 0\n",
    "net.eval()\n",
    "with torch.no_grad():\n",
    "    for i in range(len(test_x)):\n",
    "        x = test_x[i]\n",
    "        y_hat = test_y[i]\n",
    "        res = net(x)\n",
    "\n",
    "        if torch.argmax(res) == y_hat:\n",
    "            correct += 1\n",
    "\n",
    "    print(correct / 160)\n"
   ]
  },
  {
   "cell_type": "code",
   "execution_count": null,
   "metadata": {},
   "outputs": [],
   "source": []
  }
 ],
 "metadata": {
  "kernelspec": {
   "display_name": "Python 3",
   "language": "python",
   "name": "python3"
  },
  "language_info": {
   "codemirror_mode": {
    "name": "ipython",
    "version": 3
   },
   "file_extension": ".py",
   "mimetype": "text/x-python",
   "name": "python",
   "nbconvert_exporter": "python",
   "pygments_lexer": "ipython3",
   "version": "3.9.5"
  },
  "orig_nbformat": 4,
  "vscode": {
   "interpreter": {
    "hash": "aee8b7b246df8f9039afb4144a1f6fd8d2ca17a180786b69acc140d282b71a49"
   }
  }
 },
 "nbformat": 4,
 "nbformat_minor": 2
}
